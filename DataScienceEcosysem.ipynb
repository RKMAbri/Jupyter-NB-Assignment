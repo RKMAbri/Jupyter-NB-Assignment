{
 "cells": [
  {
   "cell_type": "markdown",
   "id": "27611a3d-b175-46cf-83b9-281ca993be86",
   "metadata": {},
   "source": [
    "# Data Science Tools and Ecosystem"
   ]
  },
  {
   "cell_type": "markdown",
   "id": "63edfed2-1ed6-4a33-b353-c30b1efd5b0b",
   "metadata": {},
   "source": [
    "In this notebook, Data Science Tools and Ecosystem are summarized."
   ]
  },
  {
   "cell_type": "markdown",
   "id": "a401aef1-d76d-4b5c-8fc3-ccdc94419b0c",
   "metadata": {},
   "source": [
    "**Objectives:**\n",
    "* List of poular langauges for data science\n",
    "* Development environment tools for data science\n",
    "* Arithmetic experission evaluation\n",
    "* Miutes to hourse expression"
   ]
  },
  {
   "cell_type": "markdown",
   "id": "70f69895-384d-4a35-8d27-06a3d386c2e7",
   "metadata": {},
   "source": [
    "## Author\n",
    "Ruqaiya Al Abri"
   ]
  },
  {
   "cell_type": "markdown",
   "id": "6cd19298-5203-4f30-aa49-4acb09a2dfe6",
   "metadata": {},
   "source": [
    "Some of the popular languages that Data Scientists use are:"
   ]
  },
  {
   "cell_type": "markdown",
   "id": "5883359e-8302-40d6-ba14-932d0ad1384f",
   "metadata": {},
   "source": [
    "1. Python\n",
    "2. R\n",
    "3. SQL\n",
    "4. Julia\n",
    "5. Java\n",
    "6. Scala"
   ]
  },
  {
   "cell_type": "markdown",
   "id": "114926a5-efc8-4236-ba80-698d3f22a69e",
   "metadata": {},
   "source": [
    "| Data Science Tools |\n",
    "----------------------\n",
    "| JupyterLab |\n",
    "| VS Code |\n",
    "| Anaconda |\n"
   ]
  },
  {
   "cell_type": "markdown",
   "id": "ec5e5304-a2fd-4e9e-b8f3-62130acf54e5",
   "metadata": {},
   "source": [
    "### Below are a few examples of evaluating arithmetic expressions in Python"
   ]
  },
  {
   "cell_type": "code",
   "execution_count": 1,
   "id": "1facd7b0-87ac-40c1-9b36-e199ca5ff057",
   "metadata": {},
   "outputs": [
    {
     "data": {
      "text/plain": [
       "17"
      ]
     },
     "execution_count": 1,
     "metadata": {},
     "output_type": "execute_result"
    }
   ],
   "source": [
    "# This is a simple arithmetic exporession to multiply then add integers\n",
    "\n",
    "(3*4)+5"
   ]
  },
  {
   "cell_type": "code",
   "execution_count": 3,
   "id": "cd2b70fd-fe4e-4eec-9509-db475593b41c",
   "metadata": {},
   "outputs": [
    {
     "data": {
      "text/plain": [
       "3.3333333333333335"
      ]
     },
     "execution_count": 3,
     "metadata": {},
     "output_type": "execute_result"
    }
   ],
   "source": [
    "# This will convert 200 minutes to hours by diving by 60\n",
    "\n",
    "minutes = 200\n",
    "minute_to_hour = 200/60\n",
    "minute_to_hour"
   ]
  },
  {
   "cell_type": "code",
   "execution_count": null,
   "id": "eef884a6-7f37-44d3-bca0-702ecce65a71",
   "metadata": {},
   "outputs": [],
   "source": []
  }
 ],
 "metadata": {
  "kernelspec": {
   "display_name": "Python 3 (ipykernel)",
   "language": "python",
   "name": "python3"
  },
  "language_info": {
   "codemirror_mode": {
    "name": "ipython",
    "version": 3
   },
   "file_extension": ".py",
   "mimetype": "text/x-python",
   "name": "python",
   "nbconvert_exporter": "python",
   "pygments_lexer": "ipython3",
   "version": "3.11.4"
  }
 },
 "nbformat": 4,
 "nbformat_minor": 5
}
